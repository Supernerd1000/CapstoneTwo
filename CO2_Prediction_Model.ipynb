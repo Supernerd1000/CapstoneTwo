{
 "cells": [
  {
   "cell_type": "code",
   "execution_count": 112,
   "metadata": {},
   "outputs": [],
   "source": [
    "#first step is to load the packages that I will need.\n",
    "import pandas as pd\n",
    "import numpy as np\n",
    "import matplotlib.pyplot as plt\n",
    "from pandas_profiling import ProfileReport\n",
    "import xlrd\n"
   ]
  },
  {
   "cell_type": "code",
   "execution_count": 113,
   "metadata": {},
   "outputs": [],
   "source": [
    "#first step is to load the 2 tabs of data with the revelant info from my Excel Spreadsheet.\n",
    "\n",
    "xls = pd.ExcelFile('egrid2018_data_v2.xlsx')\n",
    "\n",
    "\n",
    "\n",
    "df1 = pd.read_excel(xls, 'UNT18')\n",
    "df2 = pd.read_excel(xls, 'GEN18')"
   ]
  },
  {
   "cell_type": "code",
   "execution_count": 114,
   "metadata": {},
   "outputs": [
    {
     "data": {
      "text/plain": [
       "['Contents',\n",
       " 'Idea',\n",
       " 'UNT18',\n",
       " 'GEN18',\n",
       " 'PLNT18',\n",
       " 'ST18',\n",
       " 'BA18',\n",
       " 'SRL18',\n",
       " 'NRL18',\n",
       " 'US18',\n",
       " 'GGL18']"
      ]
     },
     "execution_count": 114,
     "metadata": {},
     "output_type": "execute_result"
    }
   ],
   "source": [
    "xls.sheet_names  # see all sheet names"
   ]
  },
  {
   "cell_type": "code",
   "execution_count": 115,
   "metadata": {},
   "outputs": [
    {
     "name": "stdout",
     "output_type": "stream",
     "text": [
      "Index(['eGRID 2018 Unit file sequence number', 'Data Year',\n",
      "       'Plant state abbreviation', 'Plant name',\n",
      "       'DOE/EIA ORIS plant or facility code', 'Unit ID', 'Prime Mover',\n",
      "       'Unit Operational Status', 'CAMD Program flag', 'Program code(s)',\n",
      "       'Unit bottom and firing type', 'Number of associated generators',\n",
      "       'Unit primary fuel', 'Unit operating hours',\n",
      "       'Unit unadjusted annual heat input (MMBtu)',\n",
      "       'Unit unadjusted ozone season heat input (MMBtu)',\n",
      "       'Unit unadjusted annual NOx emissions (tons)',\n",
      "       'Unit unadjusted ozone season NOx emissions (tons)',\n",
      "       'Unit unadjusted annual SO2 emissions (tons)',\n",
      "       'Unit unadjusted annual CO2 emissions (tons)',\n",
      "       'Unit unadjusted annual Hg emissions (lbs)',\n",
      "       'Unit unadjusted annual heat input source',\n",
      "       'Unit unadjusted ozone season heat input source',\n",
      "       'Unit unadjusted annual NOx emissions source',\n",
      "       'Unit unadjusted ozone season NOx emissions source',\n",
      "       'Unit unadjusted annual SO2 emissions source',\n",
      "       'Unit unadjusted annual CO2 emissions source',\n",
      "       'Unit unadjusted annual Hg emissions source',\n",
      "       'Unit SO2 (scrubber) first control device',\n",
      "       'Unit NOx first control device',\n",
      "       'Unit Hg Activated carbon injection system flag', 'Unit year on-line'],\n",
      "      dtype='object')\n",
      "Index(['eGRID2018 Generator file sequence number', 'Data Year',\n",
      "       'Plant state abbreviation', 'Plant name',\n",
      "       'DOE/EIA ORIS plant or facility code', 'Generator ID',\n",
      "       'Number of associated boilers', 'Generator status',\n",
      "       'Generator prime mover type', 'Generator primary fuel',\n",
      "       'Generator nameplate capacity (MW)', 'Generator capacity factor',\n",
      "       'Generator annual net generation (MWh)',\n",
      "       'Generator ozone season net generation (MWh)', 'Generation data source',\n",
      "       'Generator year on-line',\n",
      "       'Generator planned or actual retirement year'],\n",
      "      dtype='object')\n"
     ]
    }
   ],
   "source": [
    "print(df1.columns)\n",
    "\n",
    "print(df2.columns)"
   ]
  },
  {
   "cell_type": "code",
   "execution_count": 116,
   "metadata": {},
   "outputs": [
    {
     "name": "stdout",
     "output_type": "stream",
     "text": [
      "2018    26732\n",
      "YEAR        1\n",
      "Name: Data Year, dtype: int64\n"
     ]
    }
   ],
   "source": [
    "#print(df1.describe())\n",
    "\n",
    "print(df1['Data Year'].value_counts())"
   ]
  },
  {
   "cell_type": "code",
   "execution_count": 117,
   "metadata": {},
   "outputs": [
    {
     "name": "stdout",
     "output_type": "stream",
     "text": [
      "eGRID 2018 Unit file sequence number                 SEQUNT18\n",
      "Data Year                                                YEAR\n",
      "Plant state abbreviation                             PSTATABB\n",
      "Plant name                                              PNAME\n",
      "DOE/EIA ORIS plant or facility code                    ORISPL\n",
      "Unit ID                                                UNITID\n",
      "Prime Mover                                             PRMVR\n",
      "Unit Operational Status                               UNTOPST\n",
      "CAMD Program flag                                    CAMDFLAG\n",
      "Program code(s)                                       PRGCODE\n",
      "Unit bottom and firing type                          BOTFIRTY\n",
      "Number of associated generators                        NUMGEN\n",
      "Unit primary fuel                                      FUELU1\n",
      "Unit operating hours                                    HRSOP\n",
      "Unit unadjusted annual heat input (MMBtu)               HTIAN\n",
      "Unit unadjusted ozone season heat input (MMBtu)         HTIOZ\n",
      "Unit unadjusted annual NOx emissions (tons)             NOXAN\n",
      "Unit unadjusted ozone season NOx emissions (tons)       NOXOZ\n",
      "Unit unadjusted annual SO2 emissions (tons)             SO2AN\n",
      "Unit unadjusted annual CO2 emissions (tons)             CO2AN\n",
      "Unit unadjusted annual Hg emissions (lbs)                HGAN\n",
      "Unit unadjusted annual heat input source             HTIANSRC\n",
      "Unit unadjusted ozone season heat input source       HTIOZSRC\n",
      "Unit unadjusted annual NOx emissions source          NOXANSRC\n",
      "Unit unadjusted ozone season NOx emissions source    NOXOZSRC\n",
      "Unit unadjusted annual SO2 emissions source            SO2SRC\n",
      "Unit unadjusted annual CO2 emissions source            CO2SRC\n",
      "Unit unadjusted annual Hg emissions source              HGSRC\n",
      "Unit SO2 (scrubber) first control device             SO2CTLDV\n",
      "Unit NOx first control device                        NOXCTLDV\n",
      "Unit Hg Activated carbon injection system flag        HGCTLDV\n",
      "Unit year on-line                                    UNTYRONL\n",
      "Name: 0, dtype: object\n",
      "  eGRID 2018 Unit file sequence number Data Year Plant state abbreviation  \\\n",
      "0                             SEQUNT18      YEAR                 PSTATABB   \n",
      "1                                    1      2018                       AK   \n",
      "2                                    2      2018                       AK   \n",
      "3                                    3      2018                       AK   \n",
      "4                                    4      2018                       AK   \n",
      "\n",
      "                         Plant name DOE/EIA ORIS plant or facility code  \\\n",
      "0                             PNAME                              ORISPL   \n",
      "1         7-Mile Ridge Wind Project                               60814   \n",
      "2  Agrium Kenai Nitrogen Operations                               54452   \n",
      "3  Agrium Kenai Nitrogen Operations                               54452   \n",
      "4  Agrium Kenai Nitrogen Operations                               54452   \n",
      "\n",
      "  Unit ID Prime Mover Unit Operational Status CAMD Program flag  \\\n",
      "0  UNITID       PRMVR                 UNTOPST          CAMDFLAG   \n",
      "1     WT1          WT                      CN               NaN   \n",
      "2    644A          IC                      RE               NaN   \n",
      "3    644B          IC                      RE               NaN   \n",
      "4    644C          IC                      RE               NaN   \n",
      "\n",
      "  Program code(s)  ... Unit unadjusted ozone season heat input source  \\\n",
      "0         PRGCODE  ...                                       HTIOZSRC   \n",
      "1             NaN  ...                                            NaN   \n",
      "2             NaN  ...                                            NaN   \n",
      "3             NaN  ...                                            NaN   \n",
      "4             NaN  ...                                            NaN   \n",
      "\n",
      "  Unit unadjusted annual NOx emissions source  \\\n",
      "0                                    NOXANSRC   \n",
      "1                                         NaN   \n",
      "2                                         NaN   \n",
      "3                                         NaN   \n",
      "4                                         NaN   \n",
      "\n",
      "  Unit unadjusted ozone season NOx emissions source  \\\n",
      "0                                          NOXOZSRC   \n",
      "1                                               NaN   \n",
      "2                                               NaN   \n",
      "3                                               NaN   \n",
      "4                                               NaN   \n",
      "\n",
      "  Unit unadjusted annual SO2 emissions source  \\\n",
      "0                                      SO2SRC   \n",
      "1                                         NaN   \n",
      "2                                         NaN   \n",
      "3                                         NaN   \n",
      "4                                         NaN   \n",
      "\n",
      "  Unit unadjusted annual CO2 emissions source  \\\n",
      "0                                      CO2SRC   \n",
      "1                                         NaN   \n",
      "2                                         NaN   \n",
      "3                                         NaN   \n",
      "4                                         NaN   \n",
      "\n",
      "  Unit unadjusted annual Hg emissions source  \\\n",
      "0                                      HGSRC   \n",
      "1                                        NaN   \n",
      "2                                        NaN   \n",
      "3                                        NaN   \n",
      "4                                        NaN   \n",
      "\n",
      "  Unit SO2 (scrubber) first control device Unit NOx first control device  \\\n",
      "0                                 SO2CTLDV                      NOXCTLDV   \n",
      "1                                      NaN                           NaN   \n",
      "2                                      NaN                           NaN   \n",
      "3                                      NaN                           NaN   \n",
      "4                                      NaN                           NaN   \n",
      "\n",
      "  Unit Hg Activated carbon injection system flag Unit year on-line  \n",
      "0                                        HGCTLDV          UNTYRONL  \n",
      "1                                            NaN               NaN  \n",
      "2                                            NaN               NaN  \n",
      "3                                            NaN               NaN  \n",
      "4                                            NaN               NaN  \n",
      "\n",
      "[5 rows x 32 columns]\n"
     ]
    }
   ],
   "source": [
    "print(df1.iloc[0,:])\n",
    "print(df1.head())"
   ]
  },
  {
   "cell_type": "code",
   "execution_count": 118,
   "metadata": {},
   "outputs": [],
   "source": [
    "# i want to get rid of this extra row up top in both dfs\n",
    "df1 = df1.drop(df1.index[0])"
   ]
  },
  {
   "cell_type": "code",
   "execution_count": 119,
   "metadata": {},
   "outputs": [],
   "source": [
    "df2 = df2.drop(df2.index[0])"
   ]
  },
  {
   "cell_type": "code",
   "execution_count": null,
   "metadata": {},
   "outputs": [],
   "source": []
  },
  {
   "cell_type": "code",
   "execution_count": 120,
   "metadata": {},
   "outputs": [
    {
     "data": {
      "text/plain": [
       "26732"
      ]
     },
     "execution_count": 120,
     "metadata": {},
     "output_type": "execute_result"
    }
   ],
   "source": [
    "# I need to combine these datasets, but there is no matching unique identifier I can use to map them.\n",
    "\n",
    "df1[\"Plant name\"].value_counts()\n",
    "df1[\"Plant name\"].count()\n",
    "\n",
    "\n",
    "\n"
   ]
  },
  {
   "cell_type": "code",
   "execution_count": 121,
   "metadata": {},
   "outputs": [
    {
     "data": {
      "text/plain": [
       "27944"
      ]
     },
     "execution_count": 121,
     "metadata": {},
     "output_type": "execute_result"
    }
   ],
   "source": [
    "df2[\"Plant name\"].value_counts()\n",
    "df2[\"Plant name\"].count()"
   ]
  },
  {
   "cell_type": "code",
   "execution_count": 122,
   "metadata": {},
   "outputs": [
    {
     "data": {
      "text/plain": [
       "10933"
      ]
     },
     "execution_count": 122,
     "metadata": {},
     "output_type": "execute_result"
    }
   ],
   "source": [
    "df1['Plant name'].nunique()"
   ]
  },
  {
   "cell_type": "code",
   "execution_count": 123,
   "metadata": {},
   "outputs": [
    {
     "data": {
      "text/plain": [
       "10947"
      ]
     },
     "execution_count": 123,
     "metadata": {},
     "output_type": "execute_result"
    }
   ],
   "source": [
    "df2['Plant name'].nunique()"
   ]
  },
  {
   "cell_type": "code",
   "execution_count": 124,
   "metadata": {},
   "outputs": [],
   "source": [
    "#How can i generate a unique value in both tables for each row so that I can merge them on that value?  I can take Plant Name + 1, Plant Name + 2, etc.\n",
    "#They don't line up correctly and probably aren't meant to be viewed that way, luckily there is another tab for Plant Summary stats that has all of the values together. I'm going to use that. \n",
    "\n",
    "df3 = pd.read_excel(xls, 'PLNT18')\n"
   ]
  },
  {
   "cell_type": "code",
   "execution_count": 125,
   "metadata": {},
   "outputs": [
    {
     "name": "stdout",
     "output_type": "stream",
     "text": [
      "Index(['eGRID2018 Plant file sequence number', 'Data Year',\n",
      "       'Plant state abbreviation', 'Plant name',\n",
      "       'DOE/EIA ORIS plant or facility code',\n",
      "       'Plant transmission or distribution system owner name',\n",
      "       'Plant transmission or distribution system owner ID', 'Utility name',\n",
      "       'Utility ID', 'Plant-level sector',\n",
      "       ...\n",
      "       'Plant wind generation percent (resource mix)',\n",
      "       'Plant solar generation percent (resource mix)',\n",
      "       'Plant geothermal generation percent (resource mix)',\n",
      "       'Plant other fossil generation percent (resource mix)',\n",
      "       'Plant other unknown / purchased fuel generation percent (resource mix)',\n",
      "       'Plant total nonrenewables generation percent (resource mix)',\n",
      "       'Plant total renewables generation percent (resource mix)',\n",
      "       'Plant total nonhydro renewables generation percent (resource mix)',\n",
      "       'Plant total combustion generation percent (resource mix)',\n",
      "       'Plant total noncombustion generation percent (resource mix)'],\n",
      "      dtype='object', length=139)\n",
      "eGRID2018 Plant file sequence number                                 SEQPLT18\n",
      "Data Year                                                                YEAR\n",
      "Plant state abbreviation                                             PSTATABB\n",
      "Plant name                                                              PNAME\n",
      "DOE/EIA ORIS plant or facility code                                    ORISPL\n",
      "                                                                       ...   \n",
      "Plant total nonrenewables generation percent (resource mix)            PLTNPR\n",
      "Plant total renewables generation percent (resource mix)               PLTRPR\n",
      "Plant total nonhydro renewables generation percent (resource mix)      PLTHPR\n",
      "Plant total combustion generation percent (resource mix)               PLCYPR\n",
      "Plant total noncombustion generation percent (resource mix)            PLCNPR\n",
      "Name: 0, Length: 139, dtype: object\n",
      "  eGRID2018 Plant file sequence number Data Year Plant state abbreviation  \\\n",
      "0                             SEQPLT18      YEAR                 PSTATABB   \n",
      "1                                    1      2018                       AK   \n",
      "2                                    2      2018                       AK   \n",
      "3                                    3      2018                       AK   \n",
      "4                                    4      2018                       AK   \n",
      "\n",
      "                         Plant name DOE/EIA ORIS plant or facility code  \\\n",
      "0                             PNAME                              ORISPL   \n",
      "1         7-Mile Ridge Wind Project                               60814   \n",
      "2  Agrium Kenai Nitrogen Operations                               54452   \n",
      "3                          Alakanuk                               57053   \n",
      "4               Allison Creek Hydro                               58982   \n",
      "\n",
      "  Plant transmission or distribution system owner name  \\\n",
      "0                                            OPRNAME     \n",
      "1                      Alaska Power and Telephone Co     \n",
      "2                            Homer Electric Assn Inc     \n",
      "3                      Alaska Village Elec Coop, Inc     \n",
      "4                       Copper Valley Elec Assn, Inc     \n",
      "\n",
      "  Plant transmission or distribution system owner ID  \\\n",
      "0                                            OPRCODE   \n",
      "1                                                219   \n",
      "2                                              19558   \n",
      "3                                                221   \n",
      "4                                               4329   \n",
      "\n",
      "                    Utility name Utility ID Plant-level sector  ...  \\\n",
      "0                       UTLSRVNM   UTLSRVID             SECTOR  ...   \n",
      "1  Alaska Power and Telephone Co        219   Electric Utility  ...   \n",
      "2                  Agrium US Inc        179     Industrial CHP  ...   \n",
      "3  Alaska Village Elec Coop, Inc        221   Electric Utility  ...   \n",
      "4   Copper Valley Elec Assn, Inc       4329   Electric Utility  ...   \n",
      "\n",
      "  Plant wind generation percent (resource mix)  \\\n",
      "0                                       PLWIPR   \n",
      "1                                          NaN   \n",
      "2                                          NaN   \n",
      "3                                          NaN   \n",
      "4                                            0   \n",
      "\n",
      "  Plant solar generation percent (resource mix)  \\\n",
      "0                                        PLSOPR   \n",
      "1                                           NaN   \n",
      "2                                           NaN   \n",
      "3                                           NaN   \n",
      "4                                             0   \n",
      "\n",
      "  Plant geothermal generation percent (resource mix)  \\\n",
      "0                                             PLGTPR   \n",
      "1                                                NaN   \n",
      "2                                                NaN   \n",
      "3                                                NaN   \n",
      "4                                                  0   \n",
      "\n",
      "  Plant other fossil generation percent (resource mix)  \\\n",
      "0                                             PLOFPR     \n",
      "1                                                NaN     \n",
      "2                                                NaN     \n",
      "3                                                NaN     \n",
      "4                                                  0     \n",
      "\n",
      "  Plant other unknown / purchased fuel generation percent (resource mix)  \\\n",
      "0                                             PLOPPR                       \n",
      "1                                                NaN                       \n",
      "2                                                NaN                       \n",
      "3                                                NaN                       \n",
      "4                                                  0                       \n",
      "\n",
      "  Plant total nonrenewables generation percent (resource mix)  \\\n",
      "0                                             PLTNPR            \n",
      "1                                                NaN            \n",
      "2                                                NaN            \n",
      "3                                                NaN            \n",
      "4                                                  0            \n",
      "\n",
      "  Plant total renewables generation percent (resource mix)  \\\n",
      "0                                             PLTRPR         \n",
      "1                                                NaN         \n",
      "2                                                NaN         \n",
      "3                                                NaN         \n",
      "4                                                  1         \n",
      "\n",
      "  Plant total nonhydro renewables generation percent (resource mix)  \\\n",
      "0                                             PLTHPR                  \n",
      "1                                                NaN                  \n",
      "2                                                NaN                  \n",
      "3                                                NaN                  \n",
      "4                                                  0                  \n",
      "\n",
      "  Plant total combustion generation percent (resource mix)  \\\n",
      "0                                             PLCYPR         \n",
      "1                                                NaN         \n",
      "2                                                NaN         \n",
      "3                                                NaN         \n",
      "4                                                  0         \n",
      "\n",
      "  Plant total noncombustion generation percent (resource mix)  \n",
      "0                                             PLCNPR           \n",
      "1                                                NaN           \n",
      "2                                                NaN           \n",
      "3                                                NaN           \n",
      "4                                                  1           \n",
      "\n",
      "[5 rows x 139 columns]\n"
     ]
    }
   ],
   "source": [
    "print(df3.columns)\n",
    "print(df3.iloc[0,:])\n",
    "print(df3.head())"
   ]
  },
  {
   "cell_type": "code",
   "execution_count": 126,
   "metadata": {},
   "outputs": [],
   "source": [
    "# i want to get rid of this extra row up top in both dfs\n",
    "df3 = df3.drop(df1.index[0])"
   ]
  },
  {
   "cell_type": "code",
   "execution_count": 127,
   "metadata": {},
   "outputs": [
    {
     "name": "stdout",
     "output_type": "stream",
     "text": [
      "  eGRID2018 Plant file sequence number Data Year Plant state abbreviation  \\\n",
      "0                             SEQPLT18      YEAR                 PSTATABB   \n",
      "2                                    2      2018                       AK   \n",
      "3                                    3      2018                       AK   \n",
      "4                                    4      2018                       AK   \n",
      "5                                    5      2018                       AK   \n",
      "\n",
      "                         Plant name DOE/EIA ORIS plant or facility code  \\\n",
      "0                             PNAME                              ORISPL   \n",
      "2  Agrium Kenai Nitrogen Operations                               54452   \n",
      "3                          Alakanuk                               57053   \n",
      "4               Allison Creek Hydro                               58982   \n",
      "5                            Ambler                               60243   \n",
      "\n",
      "  Plant transmission or distribution system owner name  \\\n",
      "0                                            OPRNAME     \n",
      "2                            Homer Electric Assn Inc     \n",
      "3                      Alaska Village Elec Coop, Inc     \n",
      "4                       Copper Valley Elec Assn, Inc     \n",
      "5                      Alaska Village Elec Coop, Inc     \n",
      "\n",
      "  Plant transmission or distribution system owner ID  \\\n",
      "0                                            OPRCODE   \n",
      "2                                              19558   \n",
      "3                                                221   \n",
      "4                                               4329   \n",
      "5                                                221   \n",
      "\n",
      "                    Utility name Utility ID Plant-level sector  ...  \\\n",
      "0                       UTLSRVNM   UTLSRVID             SECTOR  ...   \n",
      "2                  Agrium US Inc        179     Industrial CHP  ...   \n",
      "3  Alaska Village Elec Coop, Inc        221   Electric Utility  ...   \n",
      "4   Copper Valley Elec Assn, Inc       4329   Electric Utility  ...   \n",
      "5  Alaska Village Elec Coop, Inc        221   Electric Utility  ...   \n",
      "\n",
      "  Plant wind generation percent (resource mix)  \\\n",
      "0                                       PLWIPR   \n",
      "2                                          NaN   \n",
      "3                                          NaN   \n",
      "4                                            0   \n",
      "5                                            0   \n",
      "\n",
      "  Plant solar generation percent (resource mix)  \\\n",
      "0                                        PLSOPR   \n",
      "2                                           NaN   \n",
      "3                                           NaN   \n",
      "4                                             0   \n",
      "5                                             0   \n",
      "\n",
      "  Plant geothermal generation percent (resource mix)  \\\n",
      "0                                             PLGTPR   \n",
      "2                                                NaN   \n",
      "3                                                NaN   \n",
      "4                                                  0   \n",
      "5                                                  0   \n",
      "\n",
      "  Plant other fossil generation percent (resource mix)  \\\n",
      "0                                             PLOFPR     \n",
      "2                                                NaN     \n",
      "3                                                NaN     \n",
      "4                                                  0     \n",
      "5                                                  0     \n",
      "\n",
      "  Plant other unknown / purchased fuel generation percent (resource mix)  \\\n",
      "0                                             PLOPPR                       \n",
      "2                                                NaN                       \n",
      "3                                                NaN                       \n",
      "4                                                  0                       \n",
      "5                                                  0                       \n",
      "\n",
      "  Plant total nonrenewables generation percent (resource mix)  \\\n",
      "0                                             PLTNPR            \n",
      "2                                                NaN            \n",
      "3                                                NaN            \n",
      "4                                                  0            \n",
      "5                                                  1            \n",
      "\n",
      "  Plant total renewables generation percent (resource mix)  \\\n",
      "0                                             PLTRPR         \n",
      "2                                                NaN         \n",
      "3                                                NaN         \n",
      "4                                                  1         \n",
      "5                                                  0         \n",
      "\n",
      "  Plant total nonhydro renewables generation percent (resource mix)  \\\n",
      "0                                             PLTHPR                  \n",
      "2                                                NaN                  \n",
      "3                                                NaN                  \n",
      "4                                                  0                  \n",
      "5                                                  0                  \n",
      "\n",
      "  Plant total combustion generation percent (resource mix)  \\\n",
      "0                                             PLCYPR         \n",
      "2                                                NaN         \n",
      "3                                                NaN         \n",
      "4                                                  0         \n",
      "5                                                  1         \n",
      "\n",
      "  Plant total noncombustion generation percent (resource mix)  \n",
      "0                                             PLCNPR           \n",
      "2                                                NaN           \n",
      "3                                                NaN           \n",
      "4                                                  1           \n",
      "5                                                  0           \n",
      "\n",
      "[5 rows x 139 columns]\n"
     ]
    }
   ],
   "source": [
    "print(df3.head())"
   ]
  },
  {
   "cell_type": "code",
   "execution_count": 128,
   "metadata": {},
   "outputs": [],
   "source": [
    "columns = df3.columns.to_list()"
   ]
  },
  {
   "cell_type": "code",
   "execution_count": 129,
   "metadata": {},
   "outputs": [
    {
     "name": "stdout",
     "output_type": "stream",
     "text": [
      "['eGRID2018 Plant file sequence number', 'Data Year', 'Plant state abbreviation', 'Plant name', 'DOE/EIA ORIS plant or facility code', 'Plant transmission or distribution system owner name', 'Plant transmission or distribution system owner ID', 'Utility name', 'Utility ID', 'Plant-level sector', 'Balancing Authority Name', 'Balancing Authority Code', 'NERC region acronym', 'eGRID subregion acronym', 'eGRID subregion name', 'Plant associated ISO/RTO Territory ', 'Plant FIPS state code', 'Plant FIPS county code', 'Plant county name', 'Plant latitude', 'Plant longitude', 'Number of units', 'Number of generators', 'Plant primary fuel', 'Plant primary coal/oil/gas/ other fossil fuel category', 'Flag indicating if the plant burned or generated any amount of coal', 'Plant capacity factor', 'Plant nameplate capacity (MW)', 'Nonbaseload Factor', 'Biogas/ biomass plant adjustment flag', 'Combined heat and power (CHP) plant adjustment flag', 'CHP plant useful thermal output (MMBtu)', 'CHP plant power to heat ratio', 'CHP plant electric allocation factor', 'Plant pumped storage flag', 'Plant annual heat input from combustion (MMBtu)', 'Plant ozone season heat input from combustion (MMBtu)', 'Plant total annual heat input (MMBtu)', 'Plant total ozone season heat input (MMBtu)', 'Plant annual net generation (MWh)', 'Plant ozone season net generation (MWh)', 'Plant annual NOx emissions (tons)', 'Plant ozone season NOx emissions (tons)', 'Plant annual SO2 emissions (tons)', 'Plant annual CO2 emissions (tons)', 'Plant annual CH4 emissions (lbs)', 'Plant annual N2O emissions (lbs)', 'Plant annual CO2 equivalent emissions (tons)', 'Plant annual Hg emissions (lbs)', 'Plant annual NOx total output emission rate (lb/MWh)', 'Plant ozone season NOx total output emission rate (lb/MWh)', 'Plant annual SO2 total output emission rate (lb/MWh)', 'Plant annual CO2 total output emission rate (lb/MWh)', 'Plant annual CH4 total output emission rate (lb/MWh)', 'Plant annual N2O total output emission rate (lb/MWh)', 'Plant annual CO2 equivalent total output emission rate (lb/MWh)', 'Plant annual Hg total output emission rate (lb/MWh)', 'Plant annual NOx input emission rate (lb/MMBtu)', 'Plant ozone season NOx input emission rate (lb/MMBtu)', 'Plant annual SO2 input emission rate (lb/MMBtu)', 'Plant annual CO2 input emission rate (lb/MMBtu)', 'Plant annual CH4 input emission rate (lb/MMBtu)', 'Plant annual N2O input emission rate (lb/MMBtu)', 'Plant annual CO2 equivalent input emission rate (lb/MMBtu)', 'Plant annual Hg input emission rate (lb/MMBtu)', 'Plant annual NOx combustion output emission rate (lb/MWh)', 'Plant ozone season NOx combustion output emission rate (lb/MWh)', 'Plant annual SO2 combustion output emission rate (lb/MWh)', 'Plant annual CO2 combustion output emission rate (lb/MWh)', 'Plant annual CH4 combustion output emission rate (lb/MWh)', 'Plant annual N2O combustion output emission rate (lb/MWh)', 'Plant annual Hg combustion output emission rate (lb/MWh)', 'Plant unadjusted annual NOx emissions (tons)', 'Plant unadjusted ozone season NOx emissions (tons)', 'Plant unadjusted annual SO2 emissions (tons)', 'Plant unadjusted annual CO2 emissions (tons)', 'Plant unadjusted annual CH4 emissions (lbs)', 'Plant unadjusted annual N2O emissions (lbs)', 'Plant unadjusted annual Hg emissions (lbs)', 'Plant unadjusted annual heat input from combustion (MMBtu)', 'Plant unadjusted ozone season heat input from combustion (MMBtu)', 'Plant unadjusted total annual heat input (MMBtu)', 'Plant unadjusted total ozone season heat input (MMBtu)', 'Plant unadjusted annual NOx emissions source', 'Plant unadjusted ozone season NOx emissions source', 'Plant unadjusted annual SO2 emissions source', 'Plant unadjusted annual CO2 emissions source', 'Plant unadjusted annual CH4 emissions source', 'Plant unadjusted annual N2O emissions source', 'Plant unadjusted annual Hg emissions source', 'Plant unadjusted annual heat input source', 'Plant unadjusted ozone season heat input source', 'Plant annual NOx biomass emissions (tons)', 'Plant ozone season NOx biomass emissions (tons)', 'Plant annual SO2 biomass emissions (tons)', 'Plant annual CO2 biomass emissions (tons)', 'Plant annual CH4 biomass emissions (lbs)', 'Plant annual N2O biomass emissions (lbs)', 'Plant combustion heat input CHP adjustment value (MMBtu)', 'Plant combustion annual ozone season heat input CHP adjustment value (MMBtu)', 'Plant annual NOx emissions CHP adjustment value (tons)', 'Plant ozone season NOx emissions CHP adjustment value (tons)', 'Plant annual SO2 emissions CHP adjustment value (tons)', 'Plant annual CO2 emissions CHP adjustment value (tons)', 'Plant annual CH4 emissions CHP adjustment value (lbs)', 'Plant annual N2O emissions CHP adjustment value (lbs)', 'Plant nominal heat rate (Btu/kWh)', 'Plant annual coal net generation (MWh)', 'Plant annual oil net generation (MWh)', 'Plant annual gas net generation (MWh)', 'Plant annual nuclear net generation (MWh)', 'Plant annual hydro net generation (MWh)', 'Plant annual biomass net generation (MWh)', 'Plant annual wind net generation (MWh)', 'Plant annual solar net generation (MWh)', 'Plant annual geothermal net generation (MWh)', 'Plant annual other fossil net generation (MWh)', 'Plant annual other unknown/ purchased fuel net generation (MWh)', 'Plant annual total nonrenewables net generation (MWh)', 'Plant annual total renewables net generation (MWh)', 'Plant annual total nonhydro renewables net generation (MWh)', 'Plant annual total combustion net generation (MWh)', 'Plant annual total noncombustion net generation (MWh)', 'Plant coal generation percent (resource mix)', 'Plant oil generation percent (resource mix)', 'Plant gas generation percent (resource mix)', 'Plant nuclear generation percent (resource mix)', 'Plant hydro generation percent (resource mix)', 'Plant biomass generation percent (resource mix)', 'Plant wind generation percent (resource mix)', 'Plant solar generation percent (resource mix)', 'Plant geothermal generation percent (resource mix)', 'Plant other fossil generation percent (resource mix)', 'Plant other unknown / purchased fuel generation percent (resource mix)', 'Plant total nonrenewables generation percent (resource mix)', 'Plant total renewables generation percent (resource mix)', 'Plant total nonhydro renewables generation percent (resource mix)', 'Plant total combustion generation percent (resource mix)', 'Plant total noncombustion generation percent (resource mix)']\n"
     ]
    }
   ],
   "source": [
    "print(columns)\n",
    "\n",
    "#I can get rid of a lot of these columns.\n",
    "\n"
   ]
  },
  {
   "cell_type": "code",
   "execution_count": 130,
   "metadata": {},
   "outputs": [],
   "source": [
    "# I will just make a new df of the columsn I care about\n",
    "\n",
    "columns_of_interest = ['Data Year', 'Plant state abbreviation', 'Utility name', 'Plant name', 'Plant-level sector', 'Balancing Authority Name', 'eGRID subregion name', 'Plant latitude', 'Plant longitude', 'Number of units', 'Number of generators', 'Plant primary coal/oil/gas/ other fossil fuel category','Flag indicating if the plant burned or generated any amount of coal', 'Plant capacity factor', 'Plant nameplate capacity (MW)', 'Nonbaseload Factor', 'Plant annual net generation (MWh)', 'Plant annual CO2 emissions (tons)', 'Plant annual CH4 emissions (lbs)', 'Plant annual CO2 total output emission rate (lb/MWh)', 'Plant annual CH4 total output emission rate (lb/MWh)', 'Plant annual total nonrenewables net generation (MWh)', 'Plant annual total renewables net generation (MWh)', 'Plant total nonrenewables generation percent (resource mix)', 'Plant total renewables generation percent (resource mix)']\n",
    "\n",
    "\n"
   ]
  },
  {
   "cell_type": "code",
   "execution_count": 133,
   "metadata": {},
   "outputs": [
    {
     "name": "stdout",
     "output_type": "stream",
     "text": [
      "   index Data Year Plant state abbreviation                   Utility name  \\\n",
      "0      0      YEAR                 PSTATABB                       UTLSRVNM   \n",
      "1      2      2018                       AK                  Agrium US Inc   \n",
      "2      3      2018                       AK  Alaska Village Elec Coop, Inc   \n",
      "3      4      2018                       AK   Copper Valley Elec Assn, Inc   \n",
      "4      5      2018                       AK  Alaska Village Elec Coop, Inc   \n",
      "\n",
      "                         Plant name Plant-level sector  \\\n",
      "0                             PNAME             SECTOR   \n",
      "1  Agrium Kenai Nitrogen Operations     Industrial CHP   \n",
      "2                          Alakanuk   Electric Utility   \n",
      "3               Allison Creek Hydro   Electric Utility   \n",
      "4                            Ambler   Electric Utility   \n",
      "\n",
      "  Balancing Authority Name eGRID subregion name Plant latitude  \\\n",
      "0                   BANAME               SRNAME            LAT   \n",
      "1     Alaska Miscellaneous     ASCC Alaska Grid        60.6732   \n",
      "2     Alaska Miscellaneous   ASCC Miscellaneous        62.6833   \n",
      "3     Alaska Miscellaneous   ASCC Miscellaneous        61.0844   \n",
      "4     Alaska Miscellaneous   ASCC Miscellaneous         67.088   \n",
      "\n",
      "  Plant longitude  ... Nonbaseload Factor Plant annual net generation (MWh)  \\\n",
      "0             LON  ...           NBFACTOR                          PLNGENAN   \n",
      "1        -151.378  ...                NaN                               NaN   \n",
      "2        -164.654  ...                NaN                                 0   \n",
      "3        -146.353  ...                NaN                             23077   \n",
      "4        -157.857  ...                  1                              1206   \n",
      "\n",
      "  Plant annual CO2 emissions (tons) Plant annual CH4 emissions (lbs)  \\\n",
      "0                           PLCO2AN                          PLCH4AN   \n",
      "1                               NaN                              NaN   \n",
      "2                               NaN                              NaN   \n",
      "3                               NaN                              NaN   \n",
      "4                           996.124                           80.676   \n",
      "\n",
      "  Plant annual CO2 total output emission rate (lb/MWh)  \\\n",
      "0                                           PLCO2RTA     \n",
      "1                                                NaN     \n",
      "2                                                NaN     \n",
      "3                                                NaN     \n",
      "4                                            1651.95     \n",
      "\n",
      "  Plant annual CH4 total output emission rate (lb/MWh)  \\\n",
      "0                                           PLCH4RTA     \n",
      "1                                                NaN     \n",
      "2                                                NaN     \n",
      "3                                                NaN     \n",
      "4                                              0.067     \n",
      "\n",
      "  Plant annual total nonrenewables net generation (MWh)  \\\n",
      "0                                           PLGENATN      \n",
      "1                                                NaN      \n",
      "2                                                  0      \n",
      "3                                                  0      \n",
      "4                                               1206      \n",
      "\n",
      "  Plant annual total renewables net generation (MWh)  \\\n",
      "0                                           PLGENATR   \n",
      "1                                                NaN   \n",
      "2                                                  0   \n",
      "3                                              23077   \n",
      "4                                                  0   \n",
      "\n",
      "  Plant total nonrenewables generation percent (resource mix)  \\\n",
      "0                                             PLTNPR            \n",
      "1                                                NaN            \n",
      "2                                                NaN            \n",
      "3                                                  0            \n",
      "4                                                  1            \n",
      "\n",
      "  Plant total renewables generation percent (resource mix)  \n",
      "0                                             PLTRPR        \n",
      "1                                                NaN        \n",
      "2                                                NaN        \n",
      "3                                                  1        \n",
      "4                                                  0        \n",
      "\n",
      "[5 rows x 26 columns]\n"
     ]
    }
   ],
   "source": [
    "df3 = df3[columns_of_interest]\n",
    "\n",
    "\n",
    "print(df3.head())"
   ]
  },
  {
   "cell_type": "code",
   "execution_count": null,
   "metadata": {},
   "outputs": [],
   "source": []
  }
 ],
 "metadata": {
  "kernelspec": {
   "display_name": "Python 3",
   "language": "python",
   "name": "python3"
  },
  "language_info": {
   "codemirror_mode": {
    "name": "ipython",
    "version": 3
   },
   "file_extension": ".py",
   "mimetype": "text/x-python",
   "name": "python",
   "nbconvert_exporter": "python",
   "pygments_lexer": "ipython3",
   "version": "3.7.6"
  }
 },
 "nbformat": 4,
 "nbformat_minor": 4
}
